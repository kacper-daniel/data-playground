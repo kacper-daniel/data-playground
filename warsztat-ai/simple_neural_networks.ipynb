{
 "cells": [
  {
   "cell_type": "code",
   "execution_count": 45,
   "metadata": {},
   "outputs": [],
   "source": [
    "import matplotlib.pyplot as plt\n",
    "import pandas as pd\n",
    "import numpy as np"
   ]
  },
  {
   "cell_type": "code",
   "execution_count": 46,
   "metadata": {},
   "outputs": [],
   "source": [
    "class Perceptron:\n",
    "    def __init__(self):\n",
    "        self.weights = None\n",
    "        self.bias = 0\n",
    "\n",
    "    def initialize(self, dimension):\n",
    "        ''' initialize weights vector and bias (shifts activation function) with zeros '''\n",
    "        self.weights = np.zeros(dimension)\n",
    "        self.bias = 0\n",
    "        return\n",
    "    \n",
    "    def sigmoid(self, z):\n",
    "        return 1 / (1 + np.exp(-z))\n",
    "    \n",
    "    def predict(self, inputs):\n",
    "        ''' calculate activation function and predict the class label '''\n",
    "        return 1 if self.sigmoid(np.dot(inputs, self.weights) + self.bias) > 0.5 else 0\n",
    "    \n",
    "    def train(self, X, y, epochs = 100, learning_rate = 0.01):\n",
    "        self.initialize(X.shape[1])\n",
    "        for _ in range(epochs):\n",
    "            for inputs, label in zip(X, y):\n",
    "                y_pred = self.predict(inputs)\n",
    "                error = label - y_pred\n",
    "                self.weights += learning_rate * error * inputs\n",
    "                self.bias += learning_rate * error\n",
    "        return"
   ]
  },
  {
   "cell_type": "markdown",
   "metadata": {},
   "source": [
    "Test perceptron on logical gates"
   ]
  },
  {
   "cell_type": "code",
   "execution_count": 47,
   "metadata": {},
   "outputs": [],
   "source": [
    "X = np.array([[0, 0], [0, 1], [1, 0], [1, 1]])"
   ]
  },
  {
   "cell_type": "markdown",
   "metadata": {},
   "source": [
    "AND"
   ]
  },
  {
   "cell_type": "code",
   "execution_count": 48,
   "metadata": {},
   "outputs": [
    {
     "name": "stdout",
     "output_type": "stream",
     "text": [
      "0\n",
      "0\n",
      "0\n",
      "1\n"
     ]
    }
   ],
   "source": [
    "y_train = np.array([0, 0, 0, 1])\n",
    "\n",
    "p = Perceptron()\n",
    "p.train(X, y_train, learning_rate=0.1)\n",
    "for gate in X:\n",
    "    print(p.predict(gate))"
   ]
  },
  {
   "cell_type": "markdown",
   "metadata": {},
   "source": [
    "OR"
   ]
  },
  {
   "cell_type": "code",
   "execution_count": 49,
   "metadata": {},
   "outputs": [
    {
     "name": "stdout",
     "output_type": "stream",
     "text": [
      "0\n",
      "1\n",
      "1\n",
      "1\n"
     ]
    }
   ],
   "source": [
    "y_train = np.array([0, 1, 1, 1])\n",
    "\n",
    "p = Perceptron()\n",
    "p.train(X, y_train, learning_rate=0.1)\n",
    "for gate in X:\n",
    "    print(p.predict(gate))"
   ]
  },
  {
   "cell_type": "markdown",
   "metadata": {},
   "source": [
    "XOR"
   ]
  },
  {
   "cell_type": "code",
   "execution_count": 50,
   "metadata": {},
   "outputs": [
    {
     "name": "stdout",
     "output_type": "stream",
     "text": [
      "1\n",
      "1\n",
      "0\n",
      "0\n"
     ]
    }
   ],
   "source": [
    "y_train = np.array([0, 1, 1, 0])\n",
    "\n",
    "p = Perceptron()\n",
    "p.train(X, y_train, learning_rate=0.1)\n",
    "for gate in X:\n",
    "    print(p.predict(gate))"
   ]
  }
 ],
 "metadata": {
  "kernelspec": {
   "display_name": "Python 3",
   "language": "python",
   "name": "python3"
  },
  "language_info": {
   "codemirror_mode": {
    "name": "ipython",
    "version": 3
   },
   "file_extension": ".py",
   "mimetype": "text/x-python",
   "name": "python",
   "nbconvert_exporter": "python",
   "pygments_lexer": "ipython3",
   "version": "3.11.1"
  }
 },
 "nbformat": 4,
 "nbformat_minor": 2
}
