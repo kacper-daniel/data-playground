{
 "cells": [
  {
   "cell_type": "code",
   "execution_count": 1,
   "metadata": {},
   "outputs": [],
   "source": [
    "import matplotlib.pyplot as plt\n",
    "import pandas as pd\n",
    "import numpy as np"
   ]
  },
  {
   "cell_type": "markdown",
   "metadata": {},
   "source": [
    "First attempt on building a peceptron (work in progress)"
   ]
  },
  {
   "cell_type": "code",
   "execution_count": null,
   "metadata": {},
   "outputs": [],
   "source": [
    "def initialize_with_zeros(dimension):\n",
    "    '''\n",
    "        Function that initializes:\n",
    "            - weights vector\n",
    "            - bias (shifts the activation function)\n",
    "    '''\n",
    "    w = np.zeros([dimension, 1], dtype=\"float64\")\n",
    "    b = 0.0\n",
    "    return w, b\n",
    "\n",
    "def sigmoid(z):\n",
    "    return 1 / (1 + np.exp(-z))\n",
    "\n",
    "def propagate(w, b, X, Y):\n",
    "    # Forward propagation\n",
    "    #\n",
    "    #   gives us the A vector with values between 0 and 1\n",
    "    A = sigmoid(np.dot(w.T, X) + b)\n",
    "\n",
    "    # Backward propagation\n",
    "    #\n",
    "    #   cost function - tells how far off the predicted values are from the actual ones       \n",
    "    m = X.shape[1]\n",
    "    cost_func = - (np.sum(Y * np.log(A) + (1.0 - Y) * np.log(1.0 - A))) / m\n",
    "\n",
    "    #   to minimaize cost function we need to find it's derivative in respect to w (weights) and b (bias)\n",
    "    dw = np.dot(X, (A - Y).T) / m\n",
    "    db = np.sum(A - Y) / m\n",
    "\n",
    "    cost = np.squeeze(np.array(cost_func))\n",
    "    gradients = {\"dw\": dw,\n",
    "                \"db\": db}\n",
    "    \n",
    "    return gradients, cost"
   ]
  }
 ],
 "metadata": {
  "kernelspec": {
   "display_name": "Python 3",
   "language": "python",
   "name": "python3"
  },
  "language_info": {
   "codemirror_mode": {
    "name": "ipython",
    "version": 3
   },
   "file_extension": ".py",
   "mimetype": "text/x-python",
   "name": "python",
   "nbconvert_exporter": "python",
   "pygments_lexer": "ipython3",
   "version": "3.11.1"
  }
 },
 "nbformat": 4,
 "nbformat_minor": 2
}
