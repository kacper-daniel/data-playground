{
 "cells": [
  {
   "cell_type": "code",
   "execution_count": 3,
   "metadata": {},
   "outputs": [],
   "source": [
    "import matplotlib.pyplot as plt\n",
    "import pandas as pd\n",
    "import numpy as np"
   ]
  },
  {
   "cell_type": "markdown",
   "metadata": {},
   "source": [
    "First attempt on building a peceptron (work in progress)"
   ]
  },
  {
   "cell_type": "code",
   "execution_count": 4,
   "metadata": {},
   "outputs": [],
   "source": [
    "def initialize_with_zeros(dimension):\n",
    "    '''\n",
    "        Function that initializes:\n",
    "            - weights vector\n",
    "            - bias (shifts the activation function)\n",
    "    '''\n",
    "    w = np.zeros([dimension, 1], dtype=\"float64\")\n",
    "    b = 0.0\n",
    "    return w, b\n",
    "\n",
    "def sigmoid(z):\n",
    "    return 1 / (1 + np.exp(-z))\n",
    "\n",
    "def propagate(w, b, X, Y):\n",
    "    # Forward propagation\n",
    "    #\n",
    "    #   gives us the A vector with values between 0 and 1\n",
    "    A = sigmoid(np.dot(w.T, X) + b)\n",
    "\n",
    "    # Backward propagation\n",
    "    #\n",
    "    #   cost function - tells how far off the predicted values are from the actual ones       \n",
    "    m = X.shape[1]\n",
    "    cost_func = - (np.sum(Y * np.log(A) + (1.0 - Y) * np.log(1.0 - A))) / m\n",
    "\n",
    "    #   to minimaize cost function we need to find it's derivative in respect to w (weights) and b (bias)\n",
    "    dw = np.dot(X, (A - Y).T) / m\n",
    "    db = np.sum(A - Y) / m\n",
    "\n",
    "    cost = np.squeeze(np.array(cost_func))\n",
    "    gradients = {\"dw\": dw,\n",
    "                \"db\": db}\n",
    "    \n",
    "    return gradients, cost"
   ]
  },
  {
   "cell_type": "code",
   "execution_count": 25,
   "metadata": {},
   "outputs": [],
   "source": [
    "class Perceptron:\n",
    "    def __init__(self):\n",
    "        self.weights = None\n",
    "        self.bias = 0\n",
    "\n",
    "    def initialize(self, dimension):\n",
    "        self.weights = np.zeros(dimension)\n",
    "        self.bias = 0\n",
    "        return\n",
    "    \n",
    "    def sigmoid(self, z):\n",
    "        return 1 / (1 + np.exp(-z))\n",
    "    \n",
    "    def predict(self, inputs):\n",
    "        return 1 if self.sigmoid(np.dot(inputs, self.weights) + self.bias) > 0.5 else 0\n",
    "    \n",
    "    def train(self, X, y, epochs = 100, learning_rate = 0.01):\n",
    "        self.initialize(X.shape[1])\n",
    "        for _ in range(epochs):\n",
    "            for inputs, label in zip(X, y):\n",
    "                y_pred = self.predict(inputs)\n",
    "                error = label - y_pred\n",
    "                self.weights += learning_rate * error * inputs\n",
    "                self.bias += learning_rate * error\n",
    "        return"
   ]
  },
  {
   "cell_type": "markdown",
   "metadata": {},
   "source": [
    "Test perceptron on logical gates"
   ]
  },
  {
   "cell_type": "code",
   "execution_count": 26,
   "metadata": {},
   "outputs": [],
   "source": [
    "X_train = np.array([[0, 0], [0, 1], [1, 0], [1, 1]])\n",
    "X_test = [[0, 0], [0, 1], [1, 0], [1, 1]]"
   ]
  },
  {
   "cell_type": "markdown",
   "metadata": {},
   "source": [
    "AND"
   ]
  },
  {
   "cell_type": "code",
   "execution_count": 27,
   "metadata": {},
   "outputs": [
    {
     "name": "stdout",
     "output_type": "stream",
     "text": [
      "0\n",
      "0\n",
      "0\n",
      "1\n"
     ]
    }
   ],
   "source": [
    "y_train = np.array([0, 0, 0, 1])\n",
    "\n",
    "p = Perceptron()\n",
    "p.train(X_train, y_train, learning_rate=0.1)\n",
    "for gate in X_test:\n",
    "    print(p.predict(gate))"
   ]
  },
  {
   "cell_type": "markdown",
   "metadata": {},
   "source": [
    "OR"
   ]
  },
  {
   "cell_type": "code",
   "execution_count": 28,
   "metadata": {},
   "outputs": [
    {
     "name": "stdout",
     "output_type": "stream",
     "text": [
      "0\n",
      "1\n",
      "1\n",
      "1\n"
     ]
    }
   ],
   "source": [
    "y_train = np.array([0, 1, 1, 1])\n",
    "\n",
    "p = Perceptron()\n",
    "p.train(X_train, y_train, learning_rate=0.1)\n",
    "for gate in X_test:\n",
    "    print(p.predict(gate))"
   ]
  },
  {
   "cell_type": "markdown",
   "metadata": {},
   "source": [
    "XOR"
   ]
  },
  {
   "cell_type": "code",
   "execution_count": 29,
   "metadata": {},
   "outputs": [
    {
     "name": "stdout",
     "output_type": "stream",
     "text": [
      "1\n",
      "1\n",
      "0\n",
      "0\n"
     ]
    }
   ],
   "source": [
    "y_train = np.array([0, 1, 1, 0])\n",
    "\n",
    "p = Perceptron()\n",
    "p.train(X_train, y_train, learning_rate=0.1)\n",
    "for gate in X_test:\n",
    "    print(p.predict(gate))"
   ]
  }
 ],
 "metadata": {
  "kernelspec": {
   "display_name": "Python 3",
   "language": "python",
   "name": "python3"
  },
  "language_info": {
   "codemirror_mode": {
    "name": "ipython",
    "version": 3
   },
   "file_extension": ".py",
   "mimetype": "text/x-python",
   "name": "python",
   "nbconvert_exporter": "python",
   "pygments_lexer": "ipython3",
   "version": "3.11.1"
  }
 },
 "nbformat": 4,
 "nbformat_minor": 2
}
